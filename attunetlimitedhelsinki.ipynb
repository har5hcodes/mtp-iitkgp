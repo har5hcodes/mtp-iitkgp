{
 "cells": [
  {
   "cell_type": "code",
   "execution_count": 1,
   "id": "f55fd789",
   "metadata": {
    "_cell_guid": "b1076dfc-b9ad-4769-8c92-a6c4dae69d19",
    "_uuid": "8f2839f25d086af736a60e9eeb907d3b93b6e0e5",
    "execution": {
     "iopub.execute_input": "2024-02-04T05:20:57.357820Z",
     "iopub.status.busy": "2024-02-04T05:20:57.357055Z",
     "iopub.status.idle": "2024-02-04T05:21:01.035995Z",
     "shell.execute_reply": "2024-02-04T05:21:01.034844Z"
    },
    "papermill": {
     "duration": 3.687371,
     "end_time": "2024-02-04T05:21:01.038835",
     "exception": false,
     "start_time": "2024-02-04T05:20:57.351464",
     "status": "completed"
    },
    "tags": []
   },
   "outputs": [],
   "source": [
    "import torch\n",
    "import torchvision\n",
    "import numpy as np\n",
    "import matplotlib.pyplot as plt \n",
    "from torch.utils.data import DataLoader, TensorDataset,random_split\n",
    "import torchvision.transforms as transforms\n",
    "import torch.nn as nn\n",
    "import torch.optim as optim\n",
    "from torchvision import transforms\n",
    "from torch.utils.data import Dataset, DataLoader\n",
    "import os"
   ]
  },
  {
   "cell_type": "code",
   "execution_count": 2,
   "id": "6fc92489",
   "metadata": {
    "execution": {
     "iopub.execute_input": "2024-02-04T05:21:01.053322Z",
     "iopub.status.busy": "2024-02-04T05:21:01.052737Z",
     "iopub.status.idle": "2024-02-04T05:22:18.681938Z",
     "shell.execute_reply": "2024-02-04T05:22:18.680910Z"
    },
    "papermill": {
     "duration": 77.63783,
     "end_time": "2024-02-04T05:22:18.684431",
     "exception": false,
     "start_time": "2024-02-04T05:21:01.046601",
     "status": "completed"
    },
    "tags": []
   },
   "outputs": [],
   "source": [
    "# Load ground truth and reconstructed helsinki images\n",
    "ground_truth_path = \"/kaggle/input/limited-helsinki/scaled_ground90deg181.pt\"\n",
    "recon_ellipses_path = \"/kaggle/input/limited-helsinki/scaled_recon90deg181.pt\"\n",
    "reconstructed_images = torch.load(recon_ellipses_path)\n",
    "ground_truth_images = torch.load(ground_truth_path)\n",
    " \n",
    "# Reshaping images to [batch, channels, height, width]    \n",
    "ground_truth_images = ground_truth_images.view(-1,1,512,512)\n",
    "reconstructed_images = reconstructed_images.view(-1,1,512,512)\n",
    "\n",
    "dataset = TensorDataset(reconstructed_images ,ground_truth_images)"
   ]
  },
  {
   "cell_type": "code",
   "execution_count": 3,
   "id": "212f206c",
   "metadata": {
    "execution": {
     "iopub.execute_input": "2024-02-04T05:22:18.693616Z",
     "iopub.status.busy": "2024-02-04T05:22:18.693317Z",
     "iopub.status.idle": "2024-02-04T05:22:18.707826Z",
     "shell.execute_reply": "2024-02-04T05:22:18.706772Z"
    },
    "papermill": {
     "duration": 0.021115,
     "end_time": "2024-02-04T05:22:18.709829",
     "exception": false,
     "start_time": "2024-02-04T05:22:18.688714",
     "status": "completed"
    },
    "tags": []
   },
   "outputs": [
    {
     "name": "stdout",
     "output_type": "stream",
     "text": [
      "3200\n",
      "800\n"
     ]
    }
   ],
   "source": [
    "# Split the dataset into train and test sets\n",
    "train_size = int(0.8 * len(dataset))   \n",
    "test_size = len(dataset) - train_size \n",
    "train_dataset, test_dataset = random_split(dataset, [train_size, test_size])\n",
    "print(len(train_dataset))\n",
    "print(len(test_dataset))\n",
    "\n",
    "# Create data loaders\n",
    "train_loader = DataLoader(train_dataset, batch_size=4, shuffle=True,drop_last=True)\n",
    "test_loader = DataLoader(test_dataset, batch_size=4, shuffle=False,drop_last=True)"
   ]
  },
  {
   "cell_type": "code",
   "execution_count": 4,
   "id": "c00320f8",
   "metadata": {
    "execution": {
     "iopub.execute_input": "2024-02-04T05:22:18.718418Z",
     "iopub.status.busy": "2024-02-04T05:22:18.717658Z",
     "iopub.status.idle": "2024-02-04T05:22:18.728885Z",
     "shell.execute_reply": "2024-02-04T05:22:18.728061Z"
    },
    "papermill": {
     "duration": 0.017423,
     "end_time": "2024-02-04T05:22:18.730743",
     "exception": false,
     "start_time": "2024-02-04T05:22:18.713320",
     "status": "completed"
    },
    "tags": []
   },
   "outputs": [],
   "source": [
    "class DoubleConv(nn.Module):\n",
    "    def __init__(self, in_channels, out_channels, mid_channels=None):\n",
    "        super().__init__()\n",
    "        if not mid_channels:\n",
    "            mid_channels = out_channels\n",
    "        self.double_conv = nn.Sequential(\n",
    "            nn.Conv2d(in_channels, mid_channels, kernel_size=3, padding=1),\n",
    "            nn.BatchNorm2d(mid_channels),\n",
    "            nn.ReLU(inplace=True),\n",
    "            nn.Conv2d(mid_channels, out_channels, kernel_size=3, padding=1),\n",
    "            nn.BatchNorm2d(out_channels),\n",
    "            nn.ReLU(inplace=True)\n",
    "        )\n",
    "\n",
    "    def forward(self, x):\n",
    "        return self.double_conv(x)\n",
    "\n",
    "class AttentionGate(nn.Module):\n",
    "    def __init__(self, F_g, F_l, F_int):\n",
    "        super().__init__()\n",
    "        self.W_g = nn.Sequential(\n",
    "            nn.Conv2d(F_g, F_int, kernel_size=1, stride=1, padding=0, bias=True),\n",
    "            nn.BatchNorm2d(F_int)\n",
    "        )\n",
    "\n",
    "        self.W_x = nn.Sequential(\n",
    "            nn.Conv2d(F_l, F_int, kernel_size=1, stride=1, padding=0, bias=True),\n",
    "            nn.BatchNorm2d(F_int)\n",
    "        )\n",
    "\n",
    "        self.psi = nn.Sequential(\n",
    "            nn.Conv2d(F_int, 1, kernel_size=1, stride=1, padding=0, bias=True),\n",
    "            nn.BatchNorm2d(1),\n",
    "            nn.Sigmoid()\n",
    "        )\n",
    "\n",
    "        self.relu = nn.ReLU(inplace=True)\n",
    "\n",
    "    def forward(self, g, x):\n",
    "        g1 = self.W_g(g)\n",
    "        x1 = self.W_x(x)\n",
    "        psi = self.relu(g1 + x1)\n",
    "        psi = self.psi(psi)\n",
    "        return x * psi"
   ]
  },
  {
   "cell_type": "code",
   "execution_count": 5,
   "id": "6d642abf",
   "metadata": {
    "execution": {
     "iopub.execute_input": "2024-02-04T05:22:18.738872Z",
     "iopub.status.busy": "2024-02-04T05:22:18.738341Z",
     "iopub.status.idle": "2024-02-04T05:22:18.750448Z",
     "shell.execute_reply": "2024-02-04T05:22:18.749664Z"
    },
    "papermill": {
     "duration": 0.018088,
     "end_time": "2024-02-04T05:22:18.752250",
     "exception": false,
     "start_time": "2024-02-04T05:22:18.734162",
     "status": "completed"
    },
    "tags": []
   },
   "outputs": [],
   "source": [
    "class UNet(nn.Module):\n",
    "    def __init__(self, n_channels, n_classes):\n",
    "        super(UNet, self).__init__()\n",
    "        self.n_channels = n_channels\n",
    "        self.n_classes = n_classes\n",
    "\n",
    "        # Encoder layers\n",
    "        self.initial_conv = DoubleConv(n_channels, 64)\n",
    "        self.downsample1 = nn.MaxPool2d(2)\n",
    "        self.conv_block1 = DoubleConv(64, 128)\n",
    "        self.downsample2 = nn.MaxPool2d(2)\n",
    "        self.conv_block2 = DoubleConv(128, 256)\n",
    "        self.downsample3 = nn.MaxPool2d(2)\n",
    "        self.conv_block3 = DoubleConv(256, 512)\n",
    "\n",
    "        # Attention Gates\n",
    "        self.attention_gate1 = AttentionGate(F_g=256, F_l=128, F_int=64)  # Adjusted to match layer sizes\n",
    "        self.attention_gate2 = AttentionGate(F_g=128, F_l=64, F_int=32)   # Adjusted to match layer sizes\n",
    "\n",
    "        # Decoder layers\n",
    "        self.upsample1 = nn.ConvTranspose2d(512, 256, kernel_size=2, stride=2)\n",
    "        self.conv_block4 = DoubleConv(512, 256)\n",
    "        self.upsample2 = nn.ConvTranspose2d(256, 128, kernel_size=2, stride=2)\n",
    "        self.conv_block5 = DoubleConv(256, 128)\n",
    "        self.upsample3 = nn.ConvTranspose2d(128, 64, kernel_size=2, stride=2)\n",
    "        self.conv_block6 = DoubleConv(128, 64)\n",
    "        \n",
    "        self.output_conv = nn.Conv2d(64, n_classes, kernel_size=1)\n",
    "\n",
    "    def forward(self, x):\n",
    "        # Encoder path\n",
    "        x1 = self.initial_conv(x)\n",
    "        x2 = self.downsample1(x1)\n",
    "        x3 = self.conv_block1(x2)\n",
    "        x4 = self.downsample2(x3)\n",
    "        x5 = self.conv_block2(x4)\n",
    "        x6 = self.downsample3(x5)\n",
    "        x7 = self.conv_block3(x6)\n",
    "\n",
    "        # Upsample and apply attention\n",
    "        x8 = self.upsample1(x7)\n",
    "        x8 = torch.cat([x8, x5], dim=1)\n",
    "        x9 = self.conv_block4(x8)\n",
    "        x10 = self.upsample2(x9)\n",
    "        x10 = torch.cat([x10, x3], dim=1)\n",
    "        x11 = self.conv_block5(x10)\n",
    "        x12 = self.upsample3(x11)\n",
    "        x12 = torch.cat([x12, x1], dim=1)\n",
    "        x13 = self.conv_block6(x12)\n",
    "\n",
    "        # Output layer\n",
    "        logits = self.output_conv(x13)\n",
    "        return logits"
   ]
  },
  {
   "cell_type": "code",
   "execution_count": 6,
   "id": "d49cc89c",
   "metadata": {
    "execution": {
     "iopub.execute_input": "2024-02-04T05:22:18.760287Z",
     "iopub.status.busy": "2024-02-04T05:22:18.759791Z",
     "iopub.status.idle": "2024-02-04T06:55:30.924922Z",
     "shell.execute_reply": "2024-02-04T06:55:30.923757Z"
    },
    "papermill": {
     "duration": 5592.171238,
     "end_time": "2024-02-04T06:55:30.926943",
     "exception": false,
     "start_time": "2024-02-04T05:22:18.755705",
     "status": "completed"
    },
    "tags": []
   },
   "outputs": [
    {
     "name": "stderr",
     "output_type": "stream",
     "text": [
      "100%|██████████| 800/800 [04:39<00:00,  2.86it/s]\n"
     ]
    },
    {
     "name": "stdout",
     "output_type": "stream",
     "text": [
      "Epoch [1/20], Loss: 0.001143\n"
     ]
    },
    {
     "name": "stderr",
     "output_type": "stream",
     "text": [
      "100%|██████████| 800/800 [04:39<00:00,  2.87it/s]\n"
     ]
    },
    {
     "name": "stdout",
     "output_type": "stream",
     "text": [
      "Epoch [2/20], Loss: 0.000597\n"
     ]
    },
    {
     "name": "stderr",
     "output_type": "stream",
     "text": [
      "100%|██████████| 800/800 [04:39<00:00,  2.87it/s]\n"
     ]
    },
    {
     "name": "stdout",
     "output_type": "stream",
     "text": [
      "Epoch [3/20], Loss: 0.000388\n"
     ]
    },
    {
     "name": "stderr",
     "output_type": "stream",
     "text": [
      "100%|██████████| 800/800 [04:39<00:00,  2.87it/s]\n"
     ]
    },
    {
     "name": "stdout",
     "output_type": "stream",
     "text": [
      "Epoch [4/20], Loss: 0.000423\n"
     ]
    },
    {
     "name": "stderr",
     "output_type": "stream",
     "text": [
      "100%|██████████| 800/800 [04:39<00:00,  2.87it/s]\n"
     ]
    },
    {
     "name": "stdout",
     "output_type": "stream",
     "text": [
      "Epoch [5/20], Loss: 0.000312\n"
     ]
    },
    {
     "name": "stderr",
     "output_type": "stream",
     "text": [
      "100%|██████████| 800/800 [04:39<00:00,  2.87it/s]\n"
     ]
    },
    {
     "name": "stdout",
     "output_type": "stream",
     "text": [
      "Epoch [6/20], Loss: 0.000296\n"
     ]
    },
    {
     "name": "stderr",
     "output_type": "stream",
     "text": [
      "100%|██████████| 800/800 [04:39<00:00,  2.87it/s]\n"
     ]
    },
    {
     "name": "stdout",
     "output_type": "stream",
     "text": [
      "Epoch [7/20], Loss: 0.000237\n"
     ]
    },
    {
     "name": "stderr",
     "output_type": "stream",
     "text": [
      "100%|██████████| 800/800 [04:39<00:00,  2.87it/s]\n"
     ]
    },
    {
     "name": "stdout",
     "output_type": "stream",
     "text": [
      "Epoch [8/20], Loss: 0.000312\n"
     ]
    },
    {
     "name": "stderr",
     "output_type": "stream",
     "text": [
      "100%|██████████| 800/800 [04:39<00:00,  2.87it/s]\n"
     ]
    },
    {
     "name": "stdout",
     "output_type": "stream",
     "text": [
      "Epoch [9/20], Loss: 0.000293\n"
     ]
    },
    {
     "name": "stderr",
     "output_type": "stream",
     "text": [
      "100%|██████████| 800/800 [04:39<00:00,  2.86it/s]\n"
     ]
    },
    {
     "name": "stdout",
     "output_type": "stream",
     "text": [
      "Epoch [10/20], Loss: 0.000258\n"
     ]
    },
    {
     "name": "stderr",
     "output_type": "stream",
     "text": [
      "100%|██████████| 800/800 [04:39<00:00,  2.86it/s]\n"
     ]
    },
    {
     "name": "stdout",
     "output_type": "stream",
     "text": [
      "Epoch [11/20], Loss: 0.000219\n"
     ]
    },
    {
     "name": "stderr",
     "output_type": "stream",
     "text": [
      "100%|██████████| 800/800 [04:39<00:00,  2.86it/s]\n"
     ]
    },
    {
     "name": "stdout",
     "output_type": "stream",
     "text": [
      "Epoch [12/20], Loss: 0.000364\n"
     ]
    },
    {
     "name": "stderr",
     "output_type": "stream",
     "text": [
      "100%|██████████| 800/800 [04:39<00:00,  2.86it/s]\n"
     ]
    },
    {
     "name": "stdout",
     "output_type": "stream",
     "text": [
      "Epoch [13/20], Loss: 0.000326\n"
     ]
    },
    {
     "name": "stderr",
     "output_type": "stream",
     "text": [
      "100%|██████████| 800/800 [04:39<00:00,  2.87it/s]\n"
     ]
    },
    {
     "name": "stdout",
     "output_type": "stream",
     "text": [
      "Epoch [14/20], Loss: 0.000160\n"
     ]
    },
    {
     "name": "stderr",
     "output_type": "stream",
     "text": [
      "100%|██████████| 800/800 [04:39<00:00,  2.86it/s]\n"
     ]
    },
    {
     "name": "stdout",
     "output_type": "stream",
     "text": [
      "Epoch [15/20], Loss: 0.000224\n"
     ]
    },
    {
     "name": "stderr",
     "output_type": "stream",
     "text": [
      "100%|██████████| 800/800 [04:39<00:00,  2.86it/s]\n"
     ]
    },
    {
     "name": "stdout",
     "output_type": "stream",
     "text": [
      "Epoch [16/20], Loss: 0.000224\n"
     ]
    },
    {
     "name": "stderr",
     "output_type": "stream",
     "text": [
      "100%|██████████| 800/800 [04:39<00:00,  2.86it/s]\n"
     ]
    },
    {
     "name": "stdout",
     "output_type": "stream",
     "text": [
      "Epoch [17/20], Loss: 0.000148\n"
     ]
    },
    {
     "name": "stderr",
     "output_type": "stream",
     "text": [
      "100%|██████████| 800/800 [04:39<00:00,  2.86it/s]\n"
     ]
    },
    {
     "name": "stdout",
     "output_type": "stream",
     "text": [
      "Epoch [18/20], Loss: 0.000190\n"
     ]
    },
    {
     "name": "stderr",
     "output_type": "stream",
     "text": [
      "100%|██████████| 800/800 [04:39<00:00,  2.86it/s]\n"
     ]
    },
    {
     "name": "stdout",
     "output_type": "stream",
     "text": [
      "Epoch [19/20], Loss: 0.000775\n"
     ]
    },
    {
     "name": "stderr",
     "output_type": "stream",
     "text": [
      "100%|██████████| 800/800 [04:39<00:00,  2.87it/s]\n"
     ]
    },
    {
     "name": "stdout",
     "output_type": "stream",
     "text": [
      "Epoch [20/20], Loss: 0.000235\n"
     ]
    }
   ],
   "source": [
    "from tqdm import tqdm\n",
    "\n",
    "device = torch.device('cuda' if torch.cuda.is_available() else 'cpu')\n",
    "model = UNet(1, 1).to(device) \n",
    "optimizer = torch.optim.Adam(model.parameters(), lr=0.001)\n",
    "criterion = nn.MSELoss()\n",
    "training_losses = []\n",
    "\n",
    "# Training loop\n",
    "num_epochs = 20\n",
    "for epoch in range(num_epochs):\n",
    "    model.train()\n",
    "    for data in tqdm(train_loader):\n",
    "        inputs, targets = data\n",
    "        inputs, targets = inputs.to(device), targets.to(device)\n",
    "        optimizer.zero_grad()\n",
    "        outputs = model(inputs.float())\n",
    "        loss = criterion(outputs, targets.float())\n",
    "        loss.backward()\n",
    "        optimizer.step()\n",
    "    training_losses.append(loss)\n",
    "\n",
    "    print(f'Epoch [{epoch+1}/{num_epochs}], Loss: {loss.item():.6f}')\n",
    "torch.save(model.state_dict(), 'attunetonhelsinki4000.pth')"
   ]
  },
  {
   "cell_type": "code",
   "execution_count": 7,
   "id": "1ade536b",
   "metadata": {
    "execution": {
     "iopub.execute_input": "2024-02-04T06:55:33.610818Z",
     "iopub.status.busy": "2024-02-04T06:55:33.609993Z",
     "iopub.status.idle": "2024-02-04T06:56:31.004117Z",
     "shell.execute_reply": "2024-02-04T06:56:31.003051Z"
    },
    "papermill": {
     "duration": 59.934916,
     "end_time": "2024-02-04T06:56:32.270321",
     "exception": false,
     "start_time": "2024-02-04T06:55:32.335405",
     "status": "completed"
    },
    "tags": []
   },
   "outputs": [
    {
     "name": "stderr",
     "output_type": "stream",
     "text": [
      "/opt/conda/lib/python3.10/site-packages/scipy/__init__.py:146: UserWarning: A NumPy version >=1.16.5 and <1.23.0 is required for this version of SciPy (detected version 1.24.3\n",
      "  warnings.warn(f\"A NumPy version >={np_minversion} and <{np_maxversion}\"\n"
     ]
    },
    {
     "name": "stdout",
     "output_type": "stream",
     "text": [
      "Average SSIM: 0.9239\n",
      "Average PSNR: 27.5436\n",
      "Average SSIM: 0.3886\n",
      "Average PSNR: 9.7295\n"
     ]
    },
    {
     "data": {
      "image/png": "[encoded data removed]",
      "text/plain": [
       "<Figure size 1000x500 with 3 Axes>"
      ]
     },
     "metadata": {},
     "output_type": "display_data"
    }
   ],
   "source": [
    "import numpy as np\n",
    "from skimage.metrics import structural_similarity as ssim\n",
    "from skimage.metrics import peak_signal_noise_ratio as psnr\n",
    "\n",
    "# Function to calculate SSIM for a batch of images\n",
    "def batch_ssim(enhanced_images, ground_truth_images):\n",
    "    ssim_scores = []\n",
    "    for i in range(enhanced_images.size(0)):\n",
    "        enhanced_np = enhanced_images[i].cpu().squeeze().numpy()\n",
    "        gt_np = ground_truth_images[i].cpu().squeeze().numpy()\n",
    "        score = ssim(enhanced_np, gt_np, data_range=gt_np.max() - gt_np.min())\n",
    "        ssim_scores.append(score)\n",
    "    return np.mean(ssim_scores)\n",
    "\n",
    "# Function to calculate PSNR for a batch of images\n",
    "def batch_psnr(enhanced_images, ground_truth_images):\n",
    "    psnr_scores = []\n",
    "    for i in range(enhanced_images.size(0)):\n",
    "        enhanced_np = enhanced_images[i].cpu().squeeze().numpy()\n",
    "        gt_np = ground_truth_images[i].cpu().squeeze().numpy()\n",
    "        score = psnr(enhanced_np, gt_np, data_range=gt_np.max() - gt_np.min())\n",
    "        psnr_scores.append(score)\n",
    "    return np.mean(psnr_scores)\n",
    "\n",
    "# Evaluate the model and calculate SSIM and PSNR\n",
    "model.eval()\n",
    "all_ssim_scores = []\n",
    "all_psnr_scores = []\n",
    "recon_ssim = []\n",
    "recon_psnr = []\n",
    "printed = False\n",
    "with torch.no_grad():\n",
    "    for batch_reconstructed_images, batch_ground_truth_images in test_loader:\n",
    "        batch_reconstructed_images = batch_reconstructed_images.to(device).float()\n",
    "        batch_ground_truth_images = batch_ground_truth_images.to(device).float()\n",
    "        enhanced_images = model(batch_reconstructed_images)\n",
    "        if printed == False:\n",
    "          printed = True\n",
    "          plt.figure(figsize=(10,5))\n",
    "          plt.subplot(131)\n",
    "          plt.axis(\"off\")\n",
    "          plt.title(\"Original Image\")\n",
    "          plt.imshow(batch_ground_truth_images[0][0].cpu(),cmap='gray')\n",
    "          plt.subplot(132)\n",
    "          plt.axis(\"off\")\n",
    "          plt.title(\"Reconstructed Image\")\n",
    "          plt.imshow(batch_reconstructed_images[0][0].cpu(),cmap='gray')\n",
    "          plt.subplot(133)\n",
    "          plt.axis(\"off\")\n",
    "          plt.title(\"Enhanced Image\")\n",
    "          plt.imshow(enhanced_images[0][0].cpu(),cmap='gray')\n",
    "        all_ssim_scores.append(batch_ssim(enhanced_images, batch_ground_truth_images))\n",
    "        all_psnr_scores.append(batch_psnr(enhanced_images, batch_ground_truth_images))\n",
    "\n",
    "        recon_ssim.append(batch_ssim(batch_reconstructed_images, batch_ground_truth_images))\n",
    "        recon_psnr.append(batch_psnr(batch_reconstructed_images, batch_ground_truth_images))\n",
    "        # break\n",
    "\n",
    "# Calculate average SSIM and PSNR\n",
    "avg_ssim = np.mean(all_ssim_scores)\n",
    "avg_psnr = np.mean(all_psnr_scores)\n",
    "rec_ssim = np.mean(recon_ssim)\n",
    "rec_psnr = np.mean(recon_psnr)\n",
    "print(f'Average SSIM: {avg_ssim:.4f}')\n",
    "print(f'Average PSNR: {avg_psnr:.4f}')\n",
    "print(f'Average SSIM: {rec_ssim:.4f}')\n",
    "print(f'Average PSNR: {rec_psnr:.4f}')\n"
   ]
  },
  {
   "cell_type": "code",
   "execution_count": 8,
   "id": "3d864c33",
   "metadata": {
    "execution": {
     "iopub.execute_input": "2024-02-04T06:56:34.916560Z",
     "iopub.status.busy": "2024-02-04T06:56:34.915660Z",
     "iopub.status.idle": "2024-02-04T06:56:34.921428Z",
     "shell.execute_reply": "2024-02-04T06:56:34.920567Z"
    },
    "papermill": {
     "duration": 1.371288,
     "end_time": "2024-02-04T06:56:34.923710",
     "exception": false,
     "start_time": "2024-02-04T06:56:33.552422",
     "status": "completed"
    },
    "tags": []
   },
   "outputs": [
    {
     "name": "stdout",
     "output_type": "stream",
     "text": [
      "Total number of parameters:  7733223\n"
     ]
    }
   ],
   "source": [
    "total_params = sum(p.numel() for p in model.parameters())\n",
    "print(\"Total number of parameters: \", total_params)"
   ]
  },
  {
   "cell_type": "code",
   "execution_count": 9,
   "id": "fc7a4088",
   "metadata": {
    "execution": {
     "iopub.execute_input": "2024-02-04T06:56:37.527671Z",
     "iopub.status.busy": "2024-02-04T06:56:37.527314Z",
     "iopub.status.idle": "2024-02-04T06:56:37.532980Z",
     "shell.execute_reply": "2024-02-04T06:56:37.532097Z"
    },
    "papermill": {
     "duration": 1.348248,
     "end_time": "2024-02-04T06:56:37.535782",
     "exception": false,
     "start_time": "2024-02-04T06:56:36.187534",
     "status": "completed"
    },
    "tags": []
   },
   "outputs": [
    {
     "name": "stdout",
     "output_type": "stream",
     "text": [
      "UNet(\n",
      "  (initial_conv): DoubleConv(\n",
      "    (double_conv): Sequential(\n",
      "      (0): Conv2d(1, 64, kernel_size=(3, 3), stride=(1, 1), padding=(1, 1))\n",
      "      (1): BatchNorm2d(64, eps=1e-05, momentum=0.1, affine=True, track_running_stats=True)\n",
      "      (2): ReLU(inplace=True)\n",
      "      (3): Conv2d(64, 64, kernel_size=(3, 3), stride=(1, 1), padding=(1, 1))\n",
      "      (4): BatchNorm2d(64, eps=1e-05, momentum=0.1, affine=True, track_running_stats=True)\n",
      "      (5): ReLU(inplace=True)\n",
      "    )\n",
      "  )\n",
      "  (downsample1): MaxPool2d(kernel_size=2, stride=2, padding=0, dilation=1, ceil_mode=False)\n",
      "  (conv_block1): DoubleConv(\n",
      "    (double_conv): Sequential(\n",
      "      (0): Conv2d(64, 128, kernel_size=(3, 3), stride=(1, 1), padding=(1, 1))\n",
      "      (1): BatchNorm2d(128, eps=1e-05, momentum=0.1, affine=True, track_running_stats=True)\n",
      "      (2): ReLU(inplace=True)\n",
      "      (3): Conv2d(128, 128, kernel_size=(3, 3), stride=(1, 1), padding=(1, 1))\n",
      "      (4): BatchNorm2d(128, eps=1e-05, momentum=0.1, affine=True, track_running_stats=True)\n",
      "      (5): ReLU(inplace=True)\n",
      "    )\n",
      "  )\n",
      "  (downsample2): MaxPool2d(kernel_size=2, stride=2, padding=0, dilation=1, ceil_mode=False)\n",
      "  (conv_block2): DoubleConv(\n",
      "    (double_conv): Sequential(\n",
      "      (0): Conv2d(128, 256, kernel_size=(3, 3), stride=(1, 1), padding=(1, 1))\n",
      "      (1): BatchNorm2d(256, eps=1e-05, momentum=0.1, affine=True, track_running_stats=True)\n",
      "      (2): ReLU(inplace=True)\n",
      "      (3): Conv2d(256, 256, kernel_size=(3, 3), stride=(1, 1), padding=(1, 1))\n",
      "      (4): BatchNorm2d(256, eps=1e-05, momentum=0.1, affine=True, track_running_stats=True)\n",
      "      (5): ReLU(inplace=True)\n",
      "    )\n",
      "  )\n",
      "  (downsample3): MaxPool2d(kernel_size=2, stride=2, padding=0, dilation=1, ceil_mode=False)\n",
      "  (conv_block3): DoubleConv(\n",
      "    (double_conv): Sequential(\n",
      "      (0): Conv2d(256, 512, kernel_size=(3, 3), stride=(1, 1), padding=(1, 1))\n",
      "      (1): BatchNorm2d(512, eps=1e-05, momentum=0.1, affine=True, track_running_stats=True)\n",
      "      (2): ReLU(inplace=True)\n",
      "      (3): Conv2d(512, 512, kernel_size=(3, 3), stride=(1, 1), padding=(1, 1))\n",
      "      (4): BatchNorm2d(512, eps=1e-05, momentum=0.1, affine=True, track_running_stats=True)\n",
      "      (5): ReLU(inplace=True)\n",
      "    )\n",
      "  )\n",
      "  (attention_gate1): AttentionGate(\n",
      "    (W_g): Sequential(\n",
      "      (0): Conv2d(256, 64, kernel_size=(1, 1), stride=(1, 1))\n",
      "      (1): BatchNorm2d(64, eps=1e-05, momentum=0.1, affine=True, track_running_stats=True)\n",
      "    )\n",
      "    (W_x): Sequential(\n",
      "      (0): Conv2d(128, 64, kernel_size=(1, 1), stride=(1, 1))\n",
      "      (1): BatchNorm2d(64, eps=1e-05, momentum=0.1, affine=True, track_running_stats=True)\n",
      "    )\n",
      "    (psi): Sequential(\n",
      "      (0): Conv2d(64, 1, kernel_size=(1, 1), stride=(1, 1))\n",
      "      (1): BatchNorm2d(1, eps=1e-05, momentum=0.1, affine=True, track_running_stats=True)\n",
      "      (2): Sigmoid()\n",
      "    )\n",
      "    (relu): ReLU(inplace=True)\n",
      "  )\n",
      "  (attention_gate2): AttentionGate(\n",
      "    (W_g): Sequential(\n",
      "      (0): Conv2d(128, 32, kernel_size=(1, 1), stride=(1, 1))\n",
      "      (1): BatchNorm2d(32, eps=1e-05, momentum=0.1, affine=True, track_running_stats=True)\n",
      "    )\n",
      "    (W_x): Sequential(\n",
      "      (0): Conv2d(64, 32, kernel_size=(1, 1), stride=(1, 1))\n",
      "      (1): BatchNorm2d(32, eps=1e-05, momentum=0.1, affine=True, track_running_stats=True)\n",
      "    )\n",
      "    (psi): Sequential(\n",
      "      (0): Conv2d(32, 1, kernel_size=(1, 1), stride=(1, 1))\n",
      "      (1): BatchNorm2d(1, eps=1e-05, momentum=0.1, affine=True, track_running_stats=True)\n",
      "      (2): Sigmoid()\n",
      "    )\n",
      "    (relu): ReLU(inplace=True)\n",
      "  )\n",
      "  (upsample1): ConvTranspose2d(512, 256, kernel_size=(2, 2), stride=(2, 2))\n",
      "  (conv_block4): DoubleConv(\n",
      "    (double_conv): Sequential(\n",
      "      (0): Conv2d(512, 256, kernel_size=(3, 3), stride=(1, 1), padding=(1, 1))\n",
      "      (1): BatchNorm2d(256, eps=1e-05, momentum=0.1, affine=True, track_running_stats=True)\n",
      "      (2): ReLU(inplace=True)\n",
      "      (3): Conv2d(256, 256, kernel_size=(3, 3), stride=(1, 1), padding=(1, 1))\n",
      "      (4): BatchNorm2d(256, eps=1e-05, momentum=0.1, affine=True, track_running_stats=True)\n",
      "      (5): ReLU(inplace=True)\n",
      "    )\n",
      "  )\n",
      "  (upsample2): ConvTranspose2d(256, 128, kernel_size=(2, 2), stride=(2, 2))\n",
      "  (conv_block5): DoubleConv(\n",
      "    (double_conv): Sequential(\n",
      "      (0): Conv2d(256, 128, kernel_size=(3, 3), stride=(1, 1), padding=(1, 1))\n",
      "      (1): BatchNorm2d(128, eps=1e-05, momentum=0.1, affine=True, track_running_stats=True)\n",
      "      (2): ReLU(inplace=True)\n",
      "      (3): Conv2d(128, 128, kernel_size=(3, 3), stride=(1, 1), padding=(1, 1))\n",
      "      (4): BatchNorm2d(128, eps=1e-05, momentum=0.1, affine=True, track_running_stats=True)\n",
      "      (5): ReLU(inplace=True)\n",
      "    )\n",
      "  )\n",
      "  (upsample3): ConvTranspose2d(128, 64, kernel_size=(2, 2), stride=(2, 2))\n",
      "  (conv_block6): DoubleConv(\n",
      "    (double_conv): Sequential(\n",
      "      (0): Conv2d(128, 64, kernel_size=(3, 3), stride=(1, 1), padding=(1, 1))\n",
      "      (1): BatchNorm2d(64, eps=1e-05, momentum=0.1, affine=True, track_running_stats=True)\n",
      "      (2): ReLU(inplace=True)\n",
      "      (3): Conv2d(64, 64, kernel_size=(3, 3), stride=(1, 1), padding=(1, 1))\n",
      "      (4): BatchNorm2d(64, eps=1e-05, momentum=0.1, affine=True, track_running_stats=True)\n",
      "      (5): ReLU(inplace=True)\n",
      "    )\n",
      "  )\n",
      "  (output_conv): Conv2d(64, 1, kernel_size=(1, 1), stride=(1, 1))\n",
      ")\n"
     ]
    }
   ],
   "source": [
    "print(model)"
   ]
  }
 ],
 "metadata": {
  "kaggle": {
   "accelerator": "gpu",
   "dataSources": [
    {
     "datasetId": 4071847,
     "sourceId": 7070752,
     "sourceType": "datasetVersion"
    }
   ],
   "dockerImageVersionId": 30636,
   "isGpuEnabled": true,
   "isInternetEnabled": true,
   "language": "python",
   "sourceType": "notebook"
  },
  "kernelspec": {
   "display_name": "Python 3",
   "language": "python",
   "name": "python3"
  },
  "language_info": {
   "codemirror_mode": {
    "name": "ipython",
    "version": 3
   },
   "file_extension": ".py",
   "mimetype": "text/x-python",
   "name": "python",
   "nbconvert_exporter": "python",
   "pygments_lexer": "ipython3",
   "version": "3.10.12"
  },
  "papermill": {
   "default_parameters": {},
   "duration": 5747.530093,
   "end_time": "2024-02-04T06:56:41.472203",
   "environment_variables": {},
   "exception": null,
   "input_path": "__notebook__.ipynb",
   "output_path": "__notebook__.ipynb",
   "parameters": {},
   "start_time": "2024-02-04T05:20:53.942110",
   "version": "2.4.0"
  }
 },
 "nbformat": 4,
 "nbformat_minor": 5
}
