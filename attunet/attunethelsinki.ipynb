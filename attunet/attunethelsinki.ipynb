{
 "cells": [
  {
   "cell_type": "code",
   "execution_count": 1,
   "id": "d4551388",
   "metadata": {
    "execution": {
     "iopub.execute_input": "2024-02-01T04:55:59.613306Z",
     "iopub.status.busy": "2024-02-01T04:55:59.612944Z",
     "iopub.status.idle": "2024-02-01T04:56:12.657593Z",
     "shell.execute_reply": "2024-02-01T04:56:12.656519Z"
    },
    "papermill": {
     "duration": 13.052695,
     "end_time": "2024-02-01T04:56:12.659895",
     "exception": false,
     "start_time": "2024-02-01T04:55:59.607200",
     "status": "completed"
    },
    "tags": []
   },
   "outputs": [
    {
     "name": "stdout",
     "output_type": "stream",
     "text": [
      "Requirement already satisfied: torchmetrics in /opt/conda/lib/python3.10/site-packages (1.2.1)\r\n",
      "Requirement already satisfied: numpy>1.20.0 in /opt/conda/lib/python3.10/site-packages (from torchmetrics) (1.24.3)\r\n",
      "Requirement already satisfied: packaging>17.1 in /opt/conda/lib/python3.10/site-packages (from torchmetrics) (21.3)\r\n",
      "Requirement already satisfied: torch>=1.8.1 in /opt/conda/lib/python3.10/site-packages (from torchmetrics) (2.0.0)\r\n",
      "Requirement already satisfied: lightning-utilities>=0.8.0 in /opt/conda/lib/python3.10/site-packages (from torchmetrics) (0.10.0)\r\n",
      "Requirement already satisfied: setuptools in /opt/conda/lib/python3.10/site-packages (from lightning-utilities>=0.8.0->torchmetrics) (68.1.2)\r\n",
      "Requirement already satisfied: typing-extensions in /opt/conda/lib/python3.10/site-packages (from lightning-utilities>=0.8.0->torchmetrics) (4.5.0)\r\n",
      "Requirement already satisfied: pyparsing!=3.0.5,>=2.0.2 in /opt/conda/lib/python3.10/site-packages (from packaging>17.1->torchmetrics) (3.0.9)\r\n",
      "Requirement already satisfied: filelock in /opt/conda/lib/python3.10/site-packages (from torch>=1.8.1->torchmetrics) (3.12.2)\r\n",
      "Requirement already satisfied: sympy in /opt/conda/lib/python3.10/site-packages (from torch>=1.8.1->torchmetrics) (1.12)\r\n",
      "Requirement already satisfied: networkx in /opt/conda/lib/python3.10/site-packages (from torch>=1.8.1->torchmetrics) (3.1)\r\n",
      "Requirement already satisfied: jinja2 in /opt/conda/lib/python3.10/site-packages (from torch>=1.8.1->torchmetrics) (3.1.2)\r\n",
      "Requirement already satisfied: MarkupSafe>=2.0 in /opt/conda/lib/python3.10/site-packages (from jinja2->torch>=1.8.1->torchmetrics) (2.1.3)\r\n",
      "Requirement already satisfied: mpmath>=0.19 in /opt/conda/lib/python3.10/site-packages (from sympy->torch>=1.8.1->torchmetrics) (1.3.0)\r\n"
     ]
    }
   ],
   "source": [
    "!pip install torchmetrics"
   ]
  },
  {
   "cell_type": "code",
   "execution_count": 2,
   "id": "64c7257f",
   "metadata": {
    "_cell_guid": "b1076dfc-b9ad-4769-8c92-a6c4dae69d19",
    "_uuid": "8f2839f25d086af736a60e9eeb907d3b93b6e0e5",
    "execution": {
     "iopub.execute_input": "2024-02-01T04:56:12.670012Z",
     "iopub.status.busy": "2024-02-01T04:56:12.669418Z",
     "iopub.status.idle": "2024-02-01T04:56:16.251965Z",
     "shell.execute_reply": "2024-02-01T04:56:16.251136Z"
    },
    "papermill": {
     "duration": 3.590098,
     "end_time": "2024-02-01T04:56:16.254420",
     "exception": false,
     "start_time": "2024-02-01T04:56:12.664322",
     "status": "completed"
    },
    "tags": []
   },
   "outputs": [],
   "source": [
    "import torch\n",
    "import torchvision\n",
    "import numpy as np\n",
    "import matplotlib.pyplot as plt \n",
    "from torch.utils.data import DataLoader, TensorDataset,random_split\n",
    "import torchvision.transforms as transforms\n",
    "import torch.nn as nn\n",
    "import torch.optim as optim\n",
    "from torchvision import transforms\n",
    "from torch.utils.data import Dataset, DataLoader\n",
    "import os"
   ]
  },
  {
   "cell_type": "code",
   "execution_count": 3,
   "id": "2618199e",
   "metadata": {
    "execution": {
     "iopub.execute_input": "2024-02-01T04:56:16.264194Z",
     "iopub.status.busy": "2024-02-01T04:56:16.263737Z",
     "iopub.status.idle": "2024-02-01T04:57:58.249898Z",
     "shell.execute_reply": "2024-02-01T04:57:58.249034Z"
    },
    "papermill": {
     "duration": 101.99356,
     "end_time": "2024-02-01T04:57:58.252421",
     "exception": false,
     "start_time": "2024-02-01T04:56:16.258861",
     "status": "completed"
    },
    "tags": []
   },
   "outputs": [],
   "source": [
    "# Load ground truth and reconstructed helsinki images\n",
    "ground_truth_path = \"/kaggle/input/full-angle-helsinki-2/Helsinki_scaled_ground4000.pt\"\n",
    "recon_ellipses_path = \"/kaggle/input/full-angle-helsinki-2/Helsinki_scaled_reconn4000.pt\"\n",
    "ground_truth_images = torch.load(ground_truth_path)\n",
    "reconstructed_images = torch.load(recon_ellipses_path) \n",
    "\n",
    "# Reshaping images to [batch, channels, height, width]\n",
    "ground_truth_images = ground_truth_images.view(-1,1,512,512)\n",
    "reconstructed_images = reconstructed_images.view(-1,1,512,512)\n",
    "\n",
    "dataset = TensorDataset(reconstructed_images ,ground_truth_images)"
   ]
  },
  {
   "cell_type": "code",
   "execution_count": 4,
   "id": "14e11e27",
   "metadata": {
    "execution": {
     "iopub.execute_input": "2024-02-01T04:57:58.262441Z",
     "iopub.status.busy": "2024-02-01T04:57:58.262076Z",
     "iopub.status.idle": "2024-02-01T04:57:58.277804Z",
     "shell.execute_reply": "2024-02-01T04:57:58.276807Z"
    },
    "papermill": {
     "duration": 0.022839,
     "end_time": "2024-02-01T04:57:58.279674",
     "exception": false,
     "start_time": "2024-02-01T04:57:58.256835",
     "status": "completed"
    },
    "tags": []
   },
   "outputs": [
    {
     "name": "stdout",
     "output_type": "stream",
     "text": [
      "3200\n",
      "800\n"
     ]
    }
   ],
   "source": [
    "# Split the dataset into train and test sets\n",
    "train_size = int(0.8 * len(dataset))   \n",
    "test_size = len(dataset) - train_size \n",
    "train_dataset, test_dataset = random_split(dataset, [train_size, test_size])\n",
    "print(len(train_dataset))\n",
    "print(len(test_dataset))\n",
    "\n",
    "# Create data loaders\n",
    "train_loader = DataLoader(train_dataset, batch_size=4, shuffle=True,drop_last=True)\n",
    "test_loader = DataLoader(test_dataset, batch_size=4, shuffle=False,drop_last=True)"
   ]
  },
  {
   "cell_type": "code",
   "execution_count": 5,
   "id": "4e2dab90",
   "metadata": {
    "execution": {
     "iopub.execute_input": "2024-02-01T04:57:58.288989Z",
     "iopub.status.busy": "2024-02-01T04:57:58.288712Z",
     "iopub.status.idle": "2024-02-01T04:57:58.299292Z",
     "shell.execute_reply": "2024-02-01T04:57:58.298452Z"
    },
    "papermill": {
     "duration": 0.017227,
     "end_time": "2024-02-01T04:57:58.301079",
     "exception": false,
     "start_time": "2024-02-01T04:57:58.283852",
     "status": "completed"
    },
    "tags": []
   },
   "outputs": [],
   "source": [
    "class DoubleConv(nn.Module):\n",
    "    def __init__(self, in_channels, out_channels, mid_channels=None):\n",
    "        super().__init__()\n",
    "        if not mid_channels:\n",
    "            mid_channels = out_channels\n",
    "        self.double_conv = nn.Sequential(\n",
    "            nn.Conv2d(in_channels, mid_channels, kernel_size=3, padding=1),\n",
    "            nn.BatchNorm2d(mid_channels),\n",
    "            nn.ReLU(inplace=True),\n",
    "            nn.Conv2d(mid_channels, out_channels, kernel_size=3, padding=1),\n",
    "            nn.BatchNorm2d(out_channels),\n",
    "            nn.ReLU(inplace=True)\n",
    "        )\n",
    "\n",
    "    def forward(self, x):\n",
    "        return self.double_conv(x)\n",
    "\n",
    "class AttentionGate(nn.Module):\n",
    "    def __init__(self, F_g, F_l, F_int):\n",
    "        super().__init__()\n",
    "        self.W_g = nn.Sequential(\n",
    "            nn.Conv2d(F_g, F_int, kernel_size=1, stride=1, padding=0, bias=True),\n",
    "            nn.BatchNorm2d(F_int)\n",
    "        )\n",
    "\n",
    "        self.W_x = nn.Sequential(\n",
    "            nn.Conv2d(F_l, F_int, kernel_size=1, stride=1, padding=0, bias=True),\n",
    "            nn.BatchNorm2d(F_int)\n",
    "        )\n",
    "\n",
    "        self.psi = nn.Sequential(\n",
    "            nn.Conv2d(F_int, 1, kernel_size=1, stride=1, padding=0, bias=True),\n",
    "            nn.BatchNorm2d(1),\n",
    "            nn.Sigmoid()\n",
    "        )\n",
    "\n",
    "        self.relu = nn.ReLU(inplace=True)\n",
    "\n",
    "    def forward(self, g, x):\n",
    "        g1 = self.W_g(g)\n",
    "        x1 = self.W_x(x)\n",
    "        psi = self.relu(g1 + x1)\n",
    "        psi = self.psi(psi)\n",
    "        return x * psi"
   ]
  },
  {
   "cell_type": "code",
   "execution_count": 6,
   "id": "2bbde0ca",
   "metadata": {
    "execution": {
     "iopub.execute_input": "2024-02-01T04:57:58.310007Z",
     "iopub.status.busy": "2024-02-01T04:57:58.309747Z",
     "iopub.status.idle": "2024-02-01T04:57:58.321727Z",
     "shell.execute_reply": "2024-02-01T04:57:58.320890Z"
    },
    "papermill": {
     "duration": 0.018484,
     "end_time": "2024-02-01T04:57:58.323510",
     "exception": false,
     "start_time": "2024-02-01T04:57:58.305026",
     "status": "completed"
    },
    "tags": []
   },
   "outputs": [],
   "source": [
    "class UNet(nn.Module):\n",
    "    def __init__(self, n_channels, n_classes):\n",
    "        super(UNet, self).__init__()\n",
    "        self.n_channels = n_channels\n",
    "        self.n_classes = n_classes\n",
    "\n",
    "        # Encoder layers\n",
    "        self.initial_conv = DoubleConv(n_channels, 64)\n",
    "        self.downsample1 = nn.MaxPool2d(2)\n",
    "        self.conv_block1 = DoubleConv(64, 128)\n",
    "        self.downsample2 = nn.MaxPool2d(2)\n",
    "        self.conv_block2 = DoubleConv(128, 256)\n",
    "        self.downsample3 = nn.MaxPool2d(2)\n",
    "        self.conv_block3 = DoubleConv(256, 512)\n",
    "\n",
    "        # Attention Gates\n",
    "        self.attention_gate1 = AttentionGate(F_g=256, F_l=128, F_int=64)  # Adjusted to match layer sizes\n",
    "        self.attention_gate2 = AttentionGate(F_g=128, F_l=64, F_int=32)   # Adjusted to match layer sizes\n",
    "\n",
    "        # Decoder layers\n",
    "        self.upsample1 = nn.ConvTranspose2d(512, 256, kernel_size=2, stride=2)\n",
    "        self.conv_block4 = DoubleConv(512, 256)\n",
    "        self.upsample2 = nn.ConvTranspose2d(256, 128, kernel_size=2, stride=2)\n",
    "        self.conv_block5 = DoubleConv(256, 128)\n",
    "        self.upsample3 = nn.ConvTranspose2d(128, 64, kernel_size=2, stride=2)\n",
    "        self.conv_block6 = DoubleConv(128, 64)\n",
    "        \n",
    "        self.output_conv = nn.Conv2d(64, n_classes, kernel_size=1)\n",
    "\n",
    "    def forward(self, x):\n",
    "        # Encoder path\n",
    "        x1 = self.initial_conv(x)\n",
    "        x2 = self.downsample1(x1)\n",
    "        x3 = self.conv_block1(x2)\n",
    "        x4 = self.downsample2(x3)\n",
    "        x5 = self.conv_block2(x4)\n",
    "        x6 = self.downsample3(x5)\n",
    "        x7 = self.conv_block3(x6)\n",
    "\n",
    "        # Upsample and apply attention\n",
    "        x8 = self.upsample1(x7)\n",
    "        x8 = torch.cat([x8, x5], dim=1)\n",
    "        x9 = self.conv_block4(x8)\n",
    "        x10 = self.upsample2(x9)\n",
    "        x10 = torch.cat([x10, x3], dim=1)\n",
    "        x11 = self.conv_block5(x10)\n",
    "        x12 = self.upsample3(x11)\n",
    "        x12 = torch.cat([x12, x1], dim=1)\n",
    "        x13 = self.conv_block6(x12)\n",
    "\n",
    "        # Output layer\n",
    "        logits = self.output_conv(x13)\n",
    "        return logits"
   ]
  },
  {
   "cell_type": "code",
   "execution_count": 7,
   "id": "b0d4c873",
   "metadata": {
    "execution": {
     "iopub.execute_input": "2024-02-01T04:57:58.332595Z",
     "iopub.status.busy": "2024-02-01T04:57:58.332316Z",
     "iopub.status.idle": "2024-02-01T06:31:19.349318Z",
     "shell.execute_reply": "2024-02-01T06:31:19.348178Z"
    },
    "papermill": {
     "duration": 5601.02402,
     "end_time": "2024-02-01T06:31:19.351434",
     "exception": false,
     "start_time": "2024-02-01T04:57:58.327414",
     "status": "completed"
    },
    "tags": []
   },
   "outputs": [
    {
     "name": "stderr",
     "output_type": "stream",
     "text": [
      "100%|██████████| 800/800 [04:40<00:00,  2.85it/s]\n"
     ]
    },
    {
     "name": "stdout",
     "output_type": "stream",
     "text": [
      "Epoch [1/20], Loss: 0.000253\n"
     ]
    },
    {
     "name": "stderr",
     "output_type": "stream",
     "text": [
      "100%|██████████| 800/800 [04:39<00:00,  2.86it/s]\n"
     ]
    },
    {
     "name": "stdout",
     "output_type": "stream",
     "text": [
      "Epoch [2/20], Loss: 0.000246\n"
     ]
    },
    {
     "name": "stderr",
     "output_type": "stream",
     "text": [
      "100%|██████████| 800/800 [04:39<00:00,  2.86it/s]\n"
     ]
    },
    {
     "name": "stdout",
     "output_type": "stream",
     "text": [
      "Epoch [3/20], Loss: 0.000225\n"
     ]
    },
    {
     "name": "stderr",
     "output_type": "stream",
     "text": [
      "100%|██████████| 800/800 [04:39<00:00,  2.86it/s]\n"
     ]
    },
    {
     "name": "stdout",
     "output_type": "stream",
     "text": [
      "Epoch [4/20], Loss: 0.000244\n"
     ]
    },
    {
     "name": "stderr",
     "output_type": "stream",
     "text": [
      "100%|██████████| 800/800 [04:39<00:00,  2.86it/s]\n"
     ]
    },
    {
     "name": "stdout",
     "output_type": "stream",
     "text": [
      "Epoch [5/20], Loss: 0.000127\n"
     ]
    },
    {
     "name": "stderr",
     "output_type": "stream",
     "text": [
      "100%|██████████| 800/800 [04:39<00:00,  2.86it/s]\n"
     ]
    },
    {
     "name": "stdout",
     "output_type": "stream",
     "text": [
      "Epoch [6/20], Loss: 0.000644\n"
     ]
    },
    {
     "name": "stderr",
     "output_type": "stream",
     "text": [
      "100%|██████████| 800/800 [04:39<00:00,  2.86it/s]\n"
     ]
    },
    {
     "name": "stdout",
     "output_type": "stream",
     "text": [
      "Epoch [7/20], Loss: 0.000059\n"
     ]
    },
    {
     "name": "stderr",
     "output_type": "stream",
     "text": [
      "100%|██████████| 800/800 [04:39<00:00,  2.86it/s]\n"
     ]
    },
    {
     "name": "stdout",
     "output_type": "stream",
     "text": [
      "Epoch [8/20], Loss: 0.000080\n"
     ]
    },
    {
     "name": "stderr",
     "output_type": "stream",
     "text": [
      "100%|██████████| 800/800 [04:39<00:00,  2.86it/s]\n"
     ]
    },
    {
     "name": "stdout",
     "output_type": "stream",
     "text": [
      "Epoch [9/20], Loss: 0.000073\n"
     ]
    },
    {
     "name": "stderr",
     "output_type": "stream",
     "text": [
      "100%|██████████| 800/800 [04:39<00:00,  2.86it/s]\n"
     ]
    },
    {
     "name": "stdout",
     "output_type": "stream",
     "text": [
      "Epoch [10/20], Loss: 0.000527\n"
     ]
    },
    {
     "name": "stderr",
     "output_type": "stream",
     "text": [
      "100%|██████████| 800/800 [04:39<00:00,  2.86it/s]\n"
     ]
    },
    {
     "name": "stdout",
     "output_type": "stream",
     "text": [
      "Epoch [11/20], Loss: 0.000157\n"
     ]
    },
    {
     "name": "stderr",
     "output_type": "stream",
     "text": [
      "100%|██████████| 800/800 [04:39<00:00,  2.86it/s]\n"
     ]
    },
    {
     "name": "stdout",
     "output_type": "stream",
     "text": [
      "Epoch [12/20], Loss: 0.000151\n"
     ]
    },
    {
     "name": "stderr",
     "output_type": "stream",
     "text": [
      "100%|██████████| 800/800 [04:39<00:00,  2.86it/s]\n"
     ]
    },
    {
     "name": "stdout",
     "output_type": "stream",
     "text": [
      "Epoch [13/20], Loss: 0.000064\n"
     ]
    },
    {
     "name": "stderr",
     "output_type": "stream",
     "text": [
      "100%|██████████| 800/800 [04:39<00:00,  2.86it/s]\n"
     ]
    },
    {
     "name": "stdout",
     "output_type": "stream",
     "text": [
      "Epoch [14/20], Loss: 0.000226\n"
     ]
    },
    {
     "name": "stderr",
     "output_type": "stream",
     "text": [
      "100%|██████████| 800/800 [04:39<00:00,  2.86it/s]\n"
     ]
    },
    {
     "name": "stdout",
     "output_type": "stream",
     "text": [
      "Epoch [15/20], Loss: 0.000068\n"
     ]
    },
    {
     "name": "stderr",
     "output_type": "stream",
     "text": [
      "100%|██████████| 800/800 [04:39<00:00,  2.86it/s]\n"
     ]
    },
    {
     "name": "stdout",
     "output_type": "stream",
     "text": [
      "Epoch [16/20], Loss: 0.000058\n"
     ]
    },
    {
     "name": "stderr",
     "output_type": "stream",
     "text": [
      "100%|██████████| 800/800 [04:39<00:00,  2.86it/s]\n"
     ]
    },
    {
     "name": "stdout",
     "output_type": "stream",
     "text": [
      "Epoch [17/20], Loss: 0.000055\n"
     ]
    },
    {
     "name": "stderr",
     "output_type": "stream",
     "text": [
      "100%|██████████| 800/800 [04:39<00:00,  2.86it/s]\n"
     ]
    },
    {
     "name": "stdout",
     "output_type": "stream",
     "text": [
      "Epoch [18/20], Loss: 0.000044\n"
     ]
    },
    {
     "name": "stderr",
     "output_type": "stream",
     "text": [
      "100%|██████████| 800/800 [04:39<00:00,  2.86it/s]\n"
     ]
    },
    {
     "name": "stdout",
     "output_type": "stream",
     "text": [
      "Epoch [19/20], Loss: 0.000149\n"
     ]
    },
    {
     "name": "stderr",
     "output_type": "stream",
     "text": [
      "100%|██████████| 800/800 [04:39<00:00,  2.86it/s]\n"
     ]
    },
    {
     "name": "stdout",
     "output_type": "stream",
     "text": [
      "Epoch [20/20], Loss: 0.000115\n"
     ]
    }
   ],
   "source": [
    "from tqdm import tqdm\n",
    "\n",
    "device = torch.device('cuda' if torch.cuda.is_available() else 'cpu')\n",
    "model = UNet(1, 1).to(device) \n",
    "optimizer = torch.optim.Adam(model.parameters(), lr=0.001)\n",
    "criterion = nn.MSELoss()\n",
    "training_losses = []\n",
    "\n",
    "# Training loop\n",
    "num_epochs = 20\n",
    "for epoch in range(num_epochs):\n",
    "    model.train()\n",
    "    for data in tqdm(train_loader):\n",
    "        inputs, targets = data\n",
    "        inputs, targets = inputs.to(device), targets.to(device)\n",
    "        optimizer.zero_grad()\n",
    "        outputs = model(inputs.float())\n",
    "        loss = criterion(outputs, targets.float())\n",
    "        loss.backward()\n",
    "        optimizer.step()\n",
    "    training_losses.append(loss)\n",
    "\n",
    "    print(f'Epoch [{epoch+1}/{num_epochs}], Loss: {loss.item():.6f}')\n",
    "torch.save(model.state_dict(), 'attunetonhelsinki4000.pth')"
   ]
  },
  {
   "cell_type": "code",
   "execution_count": 8,
   "id": "0429b753",
   "metadata": {
    "execution": {
     "iopub.execute_input": "2024-02-01T06:31:21.971528Z",
     "iopub.status.busy": "2024-02-01T06:31:21.970638Z",
     "iopub.status.idle": "2024-02-01T06:32:23.823116Z",
     "shell.execute_reply": "2024-02-01T06:32:23.822085Z"
    },
    "papermill": {
     "duration": 64.307305,
     "end_time": "2024-02-01T06:32:25.010437",
     "exception": false,
     "start_time": "2024-02-01T06:31:20.703132",
     "status": "completed"
    },
    "tags": []
   },
   "outputs": [
    {
     "name": "stderr",
     "output_type": "stream",
     "text": [
      "/opt/conda/lib/python3.10/site-packages/scipy/__init__.py:146: UserWarning: A NumPy version >=1.16.5 and <1.23.0 is required for this version of SciPy (detected version 1.24.3\n",
      "  warnings.warn(f\"A NumPy version >={np_minversion} and <{np_maxversion}\"\n"
     ]
    },
    {
     "name": "stdout",
     "output_type": "stream",
     "text": [
      "Average SSIM: 0.9957\n",
      "Average PSNR: 38.2022\n",
      "Average SSIM: 0.8299\n",
      "Average PSNR: 33.4312\n"
     ]
    },
    {
     "data": {
      "image/png": "[encoded data removed]",
      "text/plain": [
       "<Figure size 1000x500 with 3 Axes>"
      ]
     },
     "metadata": {},
     "output_type": "display_data"
    }
   ],
   "source": [
    "import numpy as np\n",
    "from skimage.metrics import structural_similarity as ssim\n",
    "from skimage.metrics import peak_signal_noise_ratio as psnr\n",
    "\n",
    "# Function to calculate SSIM for a batch of images\n",
    "def batch_ssim(enhanced_images, ground_truth_images):\n",
    "    ssim_scores = []\n",
    "    for i in range(enhanced_images.size(0)):\n",
    "        enhanced_np = enhanced_images[i].cpu().squeeze().numpy()\n",
    "        gt_np = ground_truth_images[i].cpu().squeeze().numpy()\n",
    "        score = ssim(enhanced_np, gt_np, data_range=gt_np.max() - gt_np.min())\n",
    "        ssim_scores.append(score)\n",
    "    return np.mean(ssim_scores)\n",
    "\n",
    "# Function to calculate PSNR for a batch of images\n",
    "def batch_psnr(enhanced_images, ground_truth_images):\n",
    "    psnr_scores = []\n",
    "    for i in range(enhanced_images.size(0)):\n",
    "        enhanced_np = enhanced_images[i].cpu().squeeze().numpy()\n",
    "        gt_np = ground_truth_images[i].cpu().squeeze().numpy()\n",
    "        score = psnr(enhanced_np, gt_np, data_range=gt_np.max() - gt_np.min())\n",
    "        psnr_scores.append(score)\n",
    "    return np.mean(psnr_scores)\n",
    "\n",
    "# Evaluate the model and calculate SSIM and PSNR\n",
    "model.eval()\n",
    "all_ssim_scores = []\n",
    "all_psnr_scores = []\n",
    "recon_ssim = []\n",
    "recon_psnr = []\n",
    "printed = False\n",
    "with torch.no_grad():\n",
    "    for batch_reconstructed_images, batch_ground_truth_images in test_loader:\n",
    "        batch_reconstructed_images = batch_reconstructed_images.to(device).float()\n",
    "        batch_ground_truth_images = batch_ground_truth_images.to(device).float()\n",
    "        enhanced_images = model(batch_reconstructed_images)\n",
    "        if printed == False:\n",
    "          printed = True\n",
    "          plt.figure(figsize=(10,5))\n",
    "          plt.subplot(131)\n",
    "          plt.axis(\"off\")\n",
    "          plt.title(\"Original Image\")\n",
    "          plt.imshow(batch_ground_truth_images[0][0].cpu(),cmap='gray')\n",
    "          plt.subplot(132)\n",
    "          plt.axis(\"off\")\n",
    "          plt.title(\"Reconstructed Image\")\n",
    "          plt.imshow(batch_reconstructed_images[0][0].cpu(),cmap='gray')\n",
    "          plt.subplot(133)\n",
    "          plt.axis(\"off\")\n",
    "          plt.title(\"Enhanced Image\")\n",
    "          plt.imshow(enhanced_images[0][0].cpu(),cmap='gray')\n",
    "        all_ssim_scores.append(batch_ssim(enhanced_images, batch_ground_truth_images))\n",
    "        all_psnr_scores.append(batch_psnr(enhanced_images, batch_ground_truth_images))\n",
    "\n",
    "        recon_ssim.append(batch_ssim(batch_reconstructed_images, batch_ground_truth_images))\n",
    "        recon_psnr.append(batch_psnr(batch_reconstructed_images, batch_ground_truth_images))\n",
    "        # break\n",
    "\n",
    "# Calculate average SSIM and PSNR\n",
    "avg_ssim = np.mean(all_ssim_scores)\n",
    "avg_psnr = np.mean(all_psnr_scores)\n",
    "rec_ssim = np.mean(recon_ssim)\n",
    "rec_psnr = np.mean(recon_psnr)\n",
    "print(f'Average SSIM: {avg_ssim:.4f}')\n",
    "print(f'Average PSNR: {avg_psnr:.4f}')\n",
    "print(f'Average SSIM: {rec_ssim:.4f}')\n",
    "print(f'Average PSNR: {rec_psnr:.4f}')\n"
   ]
  },
  {
   "cell_type": "code",
   "execution_count": 9,
   "id": "0804710f",
   "metadata": {
    "execution": {
     "iopub.execute_input": "2024-02-01T06:32:27.676527Z",
     "iopub.status.busy": "2024-02-01T06:32:27.676117Z",
     "iopub.status.idle": "2024-02-01T06:32:27.681921Z",
     "shell.execute_reply": "2024-02-01T06:32:27.681029Z"
    },
    "papermill": {
     "duration": 1.401352,
     "end_time": "2024-02-01T06:32:27.684123",
     "exception": false,
     "start_time": "2024-02-01T06:32:26.282771",
     "status": "completed"
    },
    "tags": []
   },
   "outputs": [
    {
     "name": "stdout",
     "output_type": "stream",
     "text": [
      "Total number of parameters:  7733223\n"
     ]
    }
   ],
   "source": [
    "total_params = sum(p.numel() for p in model.parameters())\n",
    "print(\"Total number of parameters: \", total_params)"
   ]
  },
  {
   "cell_type": "code",
   "execution_count": 10,
   "id": "14b52a64",
   "metadata": {
    "execution": {
     "iopub.execute_input": "2024-02-01T06:32:30.312495Z",
     "iopub.status.busy": "2024-02-01T06:32:30.311516Z",
     "iopub.status.idle": "2024-02-01T06:32:30.317744Z",
     "shell.execute_reply": "2024-02-01T06:32:30.316798Z"
    },
    "papermill": {
     "duration": 1.370316,
     "end_time": "2024-02-01T06:32:30.320557",
     "exception": false,
     "start_time": "2024-02-01T06:32:28.950241",
     "status": "completed"
    },
    "tags": []
   },
   "outputs": [
    {
     "name": "stdout",
     "output_type": "stream",
     "text": [
      "UNet(\n",
      "  (initial_conv): DoubleConv(\n",
      "    (double_conv): Sequential(\n",
      "      (0): Conv2d(1, 64, kernel_size=(3, 3), stride=(1, 1), padding=(1, 1))\n",
      "      (1): BatchNorm2d(64, eps=1e-05, momentum=0.1, affine=True, track_running_stats=True)\n",
      "      (2): ReLU(inplace=True)\n",
      "      (3): Conv2d(64, 64, kernel_size=(3, 3), stride=(1, 1), padding=(1, 1))\n",
      "      (4): BatchNorm2d(64, eps=1e-05, momentum=0.1, affine=True, track_running_stats=True)\n",
      "      (5): ReLU(inplace=True)\n",
      "    )\n",
      "  )\n",
      "  (downsample1): MaxPool2d(kernel_size=2, stride=2, padding=0, dilation=1, ceil_mode=False)\n",
      "  (conv_block1): DoubleConv(\n",
      "    (double_conv): Sequential(\n",
      "      (0): Conv2d(64, 128, kernel_size=(3, 3), stride=(1, 1), padding=(1, 1))\n",
      "      (1): BatchNorm2d(128, eps=1e-05, momentum=0.1, affine=True, track_running_stats=True)\n",
      "      (2): ReLU(inplace=True)\n",
      "      (3): Conv2d(128, 128, kernel_size=(3, 3), stride=(1, 1), padding=(1, 1))\n",
      "      (4): BatchNorm2d(128, eps=1e-05, momentum=0.1, affine=True, track_running_stats=True)\n",
      "      (5): ReLU(inplace=True)\n",
      "    )\n",
      "  )\n",
      "  (downsample2): MaxPool2d(kernel_size=2, stride=2, padding=0, dilation=1, ceil_mode=False)\n",
      "  (conv_block2): DoubleConv(\n",
      "    (double_conv): Sequential(\n",
      "      (0): Conv2d(128, 256, kernel_size=(3, 3), stride=(1, 1), padding=(1, 1))\n",
      "      (1): BatchNorm2d(256, eps=1e-05, momentum=0.1, affine=True, track_running_stats=True)\n",
      "      (2): ReLU(inplace=True)\n",
      "      (3): Conv2d(256, 256, kernel_size=(3, 3), stride=(1, 1), padding=(1, 1))\n",
      "      (4): BatchNorm2d(256, eps=1e-05, momentum=0.1, affine=True, track_running_stats=True)\n",
      "      (5): ReLU(inplace=True)\n",
      "    )\n",
      "  )\n",
      "  (downsample3): MaxPool2d(kernel_size=2, stride=2, padding=0, dilation=1, ceil_mode=False)\n",
      "  (conv_block3): DoubleConv(\n",
      "    (double_conv): Sequential(\n",
      "      (0): Conv2d(256, 512, kernel_size=(3, 3), stride=(1, 1), padding=(1, 1))\n",
      "      (1): BatchNorm2d(512, eps=1e-05, momentum=0.1, affine=True, track_running_stats=True)\n",
      "      (2): ReLU(inplace=True)\n",
      "      (3): Conv2d(512, 512, kernel_size=(3, 3), stride=(1, 1), padding=(1, 1))\n",
      "      (4): BatchNorm2d(512, eps=1e-05, momentum=0.1, affine=True, track_running_stats=True)\n",
      "      (5): ReLU(inplace=True)\n",
      "    )\n",
      "  )\n",
      "  (attention_gate1): AttentionGate(\n",
      "    (W_g): Sequential(\n",
      "      (0): Conv2d(256, 64, kernel_size=(1, 1), stride=(1, 1))\n",
      "      (1): BatchNorm2d(64, eps=1e-05, momentum=0.1, affine=True, track_running_stats=True)\n",
      "    )\n",
      "    (W_x): Sequential(\n",
      "      (0): Conv2d(128, 64, kernel_size=(1, 1), stride=(1, 1))\n",
      "      (1): BatchNorm2d(64, eps=1e-05, momentum=0.1, affine=True, track_running_stats=True)\n",
      "    )\n",
      "    (psi): Sequential(\n",
      "      (0): Conv2d(64, 1, kernel_size=(1, 1), stride=(1, 1))\n",
      "      (1): BatchNorm2d(1, eps=1e-05, momentum=0.1, affine=True, track_running_stats=True)\n",
      "      (2): Sigmoid()\n",
      "    )\n",
      "    (relu): ReLU(inplace=True)\n",
      "  )\n",
      "  (attention_gate2): AttentionGate(\n",
      "    (W_g): Sequential(\n",
      "      (0): Conv2d(128, 32, kernel_size=(1, 1), stride=(1, 1))\n",
      "      (1): BatchNorm2d(32, eps=1e-05, momentum=0.1, affine=True, track_running_stats=True)\n",
      "    )\n",
      "    (W_x): Sequential(\n",
      "      (0): Conv2d(64, 32, kernel_size=(1, 1), stride=(1, 1))\n",
      "      (1): BatchNorm2d(32, eps=1e-05, momentum=0.1, affine=True, track_running_stats=True)\n",
      "    )\n",
      "    (psi): Sequential(\n",
      "      (0): Conv2d(32, 1, kernel_size=(1, 1), stride=(1, 1))\n",
      "      (1): BatchNorm2d(1, eps=1e-05, momentum=0.1, affine=True, track_running_stats=True)\n",
      "      (2): Sigmoid()\n",
      "    )\n",
      "    (relu): ReLU(inplace=True)\n",
      "  )\n",
      "  (upsample1): ConvTranspose2d(512, 256, kernel_size=(2, 2), stride=(2, 2))\n",
      "  (conv_block4): DoubleConv(\n",
      "    (double_conv): Sequential(\n",
      "      (0): Conv2d(512, 256, kernel_size=(3, 3), stride=(1, 1), padding=(1, 1))\n",
      "      (1): BatchNorm2d(256, eps=1e-05, momentum=0.1, affine=True, track_running_stats=True)\n",
      "      (2): ReLU(inplace=True)\n",
      "      (3): Conv2d(256, 256, kernel_size=(3, 3), stride=(1, 1), padding=(1, 1))\n",
      "      (4): BatchNorm2d(256, eps=1e-05, momentum=0.1, affine=True, track_running_stats=True)\n",
      "      (5): ReLU(inplace=True)\n",
      "    )\n",
      "  )\n",
      "  (upsample2): ConvTranspose2d(256, 128, kernel_size=(2, 2), stride=(2, 2))\n",
      "  (conv_block5): DoubleConv(\n",
      "    (double_conv): Sequential(\n",
      "      (0): Conv2d(256, 128, kernel_size=(3, 3), stride=(1, 1), padding=(1, 1))\n",
      "      (1): BatchNorm2d(128, eps=1e-05, momentum=0.1, affine=True, track_running_stats=True)\n",
      "      (2): ReLU(inplace=True)\n",
      "      (3): Conv2d(128, 128, kernel_size=(3, 3), stride=(1, 1), padding=(1, 1))\n",
      "      (4): BatchNorm2d(128, eps=1e-05, momentum=0.1, affine=True, track_running_stats=True)\n",
      "      (5): ReLU(inplace=True)\n",
      "    )\n",
      "  )\n",
      "  (upsample3): ConvTranspose2d(128, 64, kernel_size=(2, 2), stride=(2, 2))\n",
      "  (conv_block6): DoubleConv(\n",
      "    (double_conv): Sequential(\n",
      "      (0): Conv2d(128, 64, kernel_size=(3, 3), stride=(1, 1), padding=(1, 1))\n",
      "      (1): BatchNorm2d(64, eps=1e-05, momentum=0.1, affine=True, track_running_stats=True)\n",
      "      (2): ReLU(inplace=True)\n",
      "      (3): Conv2d(64, 64, kernel_size=(3, 3), stride=(1, 1), padding=(1, 1))\n",
      "      (4): BatchNorm2d(64, eps=1e-05, momentum=0.1, affine=True, track_running_stats=True)\n",
      "      (5): ReLU(inplace=True)\n",
      "    )\n",
      "  )\n",
      "  (output_conv): Conv2d(64, 1, kernel_size=(1, 1), stride=(1, 1))\n",
      ")\n"
     ]
    }
   ],
   "source": [
    "print(model)"
   ]
  }
 ],
 "metadata": {
  "kaggle": {
   "accelerator": "gpu",
   "dataSources": [
    {
     "datasetId": 4279978,
     "sourceId": 7367149,
     "sourceType": "datasetVersion"
    }
   ],
   "dockerImageVersionId": 30635,
   "isGpuEnabled": true,
   "isInternetEnabled": true,
   "language": "python",
   "sourceType": "notebook"
  },
  "kernelspec": {
   "display_name": "Python 3",
   "language": "python",
   "name": "python3"
  },
  "language_info": {
   "codemirror_mode": {
    "name": "ipython",
    "version": 3
   },
   "file_extension": ".py",
   "mimetype": "text/x-python",
   "name": "python",
   "nbconvert_exporter": "python",
   "pygments_lexer": "ipython3",
   "version": "3.10.12"
  },
  "papermill": {
   "default_parameters": {},
   "duration": 5797.44066,
   "end_time": "2024-02-01T06:32:33.641422",
   "environment_variables": {},
   "exception": null,
   "input_path": "__notebook__.ipynb",
   "output_path": "__notebook__.ipynb",
   "parameters": {},
   "start_time": "2024-02-01T04:55:56.200762",
   "version": "2.4.0"
  }
 },
 "nbformat": 4,
 "nbformat_minor": 5
}
